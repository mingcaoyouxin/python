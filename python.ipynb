{
 "cells": [
  {
   "cell_type": "markdown",
   "metadata": {},
   "source": [
    "# print"
   ]
  },
  {
   "cell_type": "code",
   "execution_count": 170,
   "metadata": {},
   "outputs": [
    {
     "name": "stdout",
     "output_type": "stream",
     "text": [
      "hello world\n",
      "hello howard,you are man\n",
      "growth rate: 7 %\n",
      "300\n",
      "\\\n",
      "\\\n",
      "\\\\\\\\n\n",
      "line1\n",
      "line2\n",
      "lin3\n",
      "False\n",
      "3.3333333333333335\n",
      "3\n"
     ]
    }
   ],
   "source": [
    "\n",
    "print('hello world') #打印字符串\n",
    "print('hello %s,you are %s' % ('howard','man'))\n",
    "print('growth rate: %d %%' % 7)#对%进行转义\n",
    "print(100+200) #会进行计算\n",
    "print(\"\\\\\\n\\\\\") #表示转义  \n",
    "print(r\"\\\\\\\\n\");#表示不转义\n",
    "print('''line1\n",
    "line2\n",
    "lin3''')#Python允许用'''***'''的格式表示多行内容\n",
    "print(3>2 and 2 > 3)#and or not\n",
    "\n",
    "print(10/3)#3.3333333333333335\n",
    "print(10//3)#3 整数的地板除//永远是整数，即使除不尽\n",
    "\n"
   ]
  },
  {
   "cell_type": "markdown",
   "metadata": {},
   "source": [
    "# 动态语言"
   ]
  },
  {
   "cell_type": "code",
   "execution_count": 171,
   "metadata": {},
   "outputs": [
    {
     "name": "stdout",
     "output_type": "stream",
     "text": [
      "123\n",
      "ABC\n",
      "ABC\n",
      "ABC\n"
     ]
    }
   ],
   "source": [
    "a = 123 # a 是整数\n",
    "print(a)\n",
    "a = 'ABC'#a是字符串，python是动态语言\n",
    "print(a)\n",
    "b = a\n",
    "print(b)#ABC\n",
    "a = 'XYZ'\n",
    "print(b)#ABC"
   ]
  },
  {
   "cell_type": "markdown",
   "metadata": {},
   "source": [
    "# list"
   ]
  },
  {
   "cell_type": "code",
   "execution_count": 172,
   "metadata": {},
   "outputs": [
    {
     "name": "stdout",
     "output_type": "stream",
     "text": [
      "['alice', 'apploer', 'howard']\n",
      "3\n",
      "alice\n",
      "howard\n",
      "4\n",
      "0\n"
     ]
    }
   ],
   "source": [
    "classmates = ['tiancheng','howard','alin']\n",
    "classmates.append('tim')\n",
    "classmates.insert(0,'alice')\n",
    "classmates.pop()\n",
    "classmates.pop(3)\n",
    "classmates[1] = 'apploer'\n",
    "print(classmates)\n",
    "print(len(classmates))\n",
    "print(classmates[0])\n",
    "print(classmates[-1])#直接获取最后一个元素，同理-2，-3\n",
    "\n",
    "\n",
    "s = ['s1','s2',['r1','r2'],'s3']\n",
    "print(len(s))\n",
    "\n",
    "L = []\n",
    "print(len(L))#0 空list"
   ]
  },
  {
   "cell_type": "markdown",
   "metadata": {},
   "source": [
    "## 列表生成式\n",
    "\n",
    "通过列表生成式，我们可以直接创建一个列表。但是，受到内存限制，列表容量肯定是有限的。\n",
    "而且，创建一个包含100万个元素的列表，\n",
    "不仅占用很大的存储空间，如果我们仅仅需要访问前面几个元素，那后面绝大多数元素占用的空间都白白浪费了。\n",
    "所以，如果列表元素可以按照某种算法推算出来，那我们是否可以在循环的过程中不断推算出后续的元素呢？\n",
    "这样就不必创建完整的list，从而节省大量的空间。在Python中，这种一边循环一边计算的机制，\n",
    "称为生成器：generator。\n",
    "\n",
    "要创建一个generator，有很多种方法。第一种方法很简单，只要把一个列表生成式的[]改成()，\n",
    "就创建了一个generator：\n"
   ]
  },
  {
   "cell_type": "code",
   "execution_count": 173,
   "metadata": {},
   "outputs": [
    {
     "data": {
      "text/plain": [
       "[1, 4, 9, 16, 25, 36, 49, 64, 81, 100]"
      ]
     },
     "execution_count": 173,
     "metadata": {},
     "output_type": "execute_result"
    }
   ],
   "source": [
    "list(range(1, 11))\n",
    "[x*x for x in range(1,11)]"
   ]
  },
  {
   "cell_type": "markdown",
   "metadata": {},
   "source": [
    "仅偶数的平方"
   ]
  },
  {
   "cell_type": "code",
   "execution_count": 174,
   "metadata": {},
   "outputs": [
    {
     "data": {
      "text/plain": [
       "['AM', 'AN', 'AO', 'BM', 'BN', 'BO', 'CM', 'CN', 'CO']"
      ]
     },
     "execution_count": 174,
     "metadata": {},
     "output_type": "execute_result"
    }
   ],
   "source": [
    "[x*x for x in range(1,11) if x%2 == 0]\n",
    "[m+n for m in 'ABC' for n in 'MNO']"
   ]
  },
  {
   "cell_type": "markdown",
   "metadata": {},
   "source": [
    "两个变量生成list"
   ]
  },
  {
   "cell_type": "code",
   "execution_count": 175,
   "metadata": {},
   "outputs": [
    {
     "data": {
      "text/plain": [
       "['hello', 'world', 'ibm', 'apple']"
      ]
     },
     "execution_count": 175,
     "metadata": {},
     "output_type": "execute_result"
    }
   ],
   "source": [
    "#列表生成式也可以使用两个变量来生成list：     \n",
    "d = {'x': 'A', 'y': 'B', 'z': 'C' }\n",
    "[k + '=' + v for k, v in d.items()]#['y=B', 'x=A', 'z=C']\n",
    "L = ['Hello', 'World', 'IBM', 'Apple']\n",
    "[s.lower() for s in L]#将L元素变为小写['hello', 'world', 'ibm', 'apple']\n"
   ]
  },
  {
   "cell_type": "code",
   "execution_count": 176,
   "metadata": {
    "scrolled": false
   },
   "outputs": [
    {
     "name": "stdout",
     "output_type": "stream",
     "text": [
      "y = B\n",
      "x = A\n",
      "z = C\n"
     ]
    }
   ],
   "source": [
    "import os# 导入os模块\n",
    "[d for d in os.listdir('.')] # os.listdir可以列出文件和目录\n",
    "d = {'x': 'A', 'y': 'B', 'z': 'C' }\n",
    "for k, v in d.items():\n",
    "     print(k, '=', v)"
   ]
  },
  {
   "cell_type": "markdown",
   "metadata": {},
   "source": [
    "# tuple"
   ]
  },
  {
   "cell_type": "code",
   "execution_count": 177,
   "metadata": {},
   "outputs": [
    {
     "name": "stdout",
     "output_type": "stream",
     "text": [
      "3\n",
      "('a', 'b', ['X', 'Y'])\n",
      "your age is 20\n",
      "adult\n",
      "kid\n",
      "00前\n",
      "n1\n",
      "n2\n",
      "n3\n"
     ]
    }
   ],
   "source": [
    "t=('1','2','3')\n",
    "print(len(t))#元组一旦初始化便不可以改变了，能用tuple代替list就尽量用tuple。\n",
    "t1 = (1,)#定义只包含一个元素的元组，注意逗号\n",
    "\n",
    "t = ('a', 'b', ['A', 'B'])\n",
    "t[2][0] = 'X'\n",
    "t[2][1] = 'Y'\n",
    "print(t)#('a', 'b', ['X', 'Y']),注意这里tuple元素并没有改变，改变的是list的元素\n",
    "\n",
    "\n",
    "age = 20\n",
    "if age > 18:\n",
    "\tprint('your age is', age)\n",
    "\tprint('adult')\n",
    "else:\n",
    "\tprint('your age is',age)\n",
    "\tprint('child')\n",
    "\n",
    "age = 3\n",
    "if age >= 18:\n",
    "    print('adult')\n",
    "elif age >= 6:\n",
    "    print('teenager')\n",
    "else:\n",
    "    print('kid')\n",
    "\n",
    "#birth = int (input('birthday is '))#这里input返回的是string类型，不能直接和2000整型值做比较，\n",
    "#所以需要转型\n",
    "birth = 20;\n",
    "if birth < 2000:\n",
    "    print('00前')\n",
    "else:\n",
    "    print('00后')\n",
    "\n",
    "names = ['n1','n2','n3']\n",
    "for name in names:\n",
    "\tprint(name)\n"
   ]
  },
  {
   "cell_type": "markdown",
   "metadata": {},
   "source": [
    "# dict"
   ]
  },
  {
   "cell_type": "code",
   "execution_count": 178,
   "metadata": {},
   "outputs": [
    {
     "name": "stdout",
     "output_type": "stream",
     "text": [
      "95\n",
      "{'Jim': 20, 'michael': 95, 'Bob': 97, 'jack': 98}\n",
      "True\n",
      "95\n",
      "None\n",
      "-1\n"
     ]
    },
    {
     "data": {
      "text/plain": [
       "95"
      ]
     },
     "execution_count": 178,
     "metadata": {},
     "output_type": "execute_result"
    }
   ],
   "source": [
    "d = {'michael':95,'Bob':97,'Jim':20}\n",
    "print(d['michael'])\n",
    "\n",
    "d['jack'] = 98\n",
    "print(d)#dict内部存放的顺序和key放入的顺序是没有关系的,所以打印顺序也是与上述没有关系的\n",
    "print('michael' in d)#判断key 是否存在\n",
    "print(d.get('michael'))\n",
    "print(d.get('tomac'))#返回None\n",
    "print(d.get('tomac',-1))#指定返回值\n",
    "d.pop('michael')\n"
   ]
  },
  {
   "cell_type": "markdown",
   "metadata": {},
   "source": [
    "# set\n",
    "set和dict类似，也是一组key的集合，但不存储value。由于key不能重复，所以，在set中，没有重复的key。"
   ]
  },
  {
   "cell_type": "code",
   "execution_count": 179,
   "metadata": {},
   "outputs": [
    {
     "name": "stdout",
     "output_type": "stream",
     "text": [
      "{1, 2, 3}\n",
      "{1, 2, 3}\n",
      "{1, 3, 4}\n"
     ]
    }
   ],
   "source": [
    "s = set([1, 2, 3])\n",
    "print(s)#{1, 2, 3},传入的参数[1, 2, 3]是一个list，\n",
    "#而显示的{1, 2, 3}只是告诉你这个set内部有1，2，3这3个元素，显示的顺序也不表示set是有序的\n",
    "s = set([1, 1, 2, 2, 3, 3])#重复元素被自动过滤\n",
    "print(s)\n",
    "s.add(4)\n",
    "s.remove(2)\n",
    "print(s)\n"
   ]
  },
  {
   "cell_type": "markdown",
   "metadata": {},
   "source": [
    "# 函数"
   ]
  },
  {
   "cell_type": "code",
   "execution_count": 180,
   "metadata": {},
   "outputs": [
    {
     "data": {
      "text/plain": [
       "1"
      ]
     },
     "execution_count": 180,
     "metadata": {},
     "output_type": "execute_result"
    }
   ],
   "source": [
    "#help(abs)#给出函数的帮助，按q可以退出帮助\n",
    "a = abs # 变量a指向abs函数\n",
    "a(-1) # 所以也可以通过a调用abs函数\n"
   ]
  },
  {
   "cell_type": "code",
   "execution_count": 181,
   "metadata": {},
   "outputs": [
    {
     "name": "stdout",
     "output_type": "stream",
     "text": [
      "2\n"
     ]
    }
   ],
   "source": [
    "def my_abs(x):\n",
    "\tif not isinstance(x,(int,float)):\n",
    "\t\traise TypeError('bad operator type')\n",
    "\tif x >= 0:\n",
    "\t\treturn x\n",
    "\telse:\n",
    "\t\treturn -x\n",
    "\n",
    "print (my_abs(-2))\n"
   ]
  },
  {
   "cell_type": "markdown",
   "metadata": {},
   "source": [
    "## 空函数"
   ]
  },
  {
   "cell_type": "code",
   "execution_count": 182,
   "metadata": {},
   "outputs": [
    {
     "name": "stdout",
     "output_type": "stream",
     "text": [
      "(3.598076211353316, 3.5)\n",
      "['END']\n",
      "['END', 'END']\n",
      "30\n",
      "14\n",
      "30\n",
      "name: Michael age: 30 other: {}\n",
      "None\n",
      "name: Bob age: 35 other: {'city': 'Beijing'}\n",
      "name: Adam age: 45 other: {'job': 'Engineer', 'gender': 'M'}\n",
      "name: Jack age: 24 other: {'job': 'Engineer', 'city': 'Beijing'}\n",
      "Jack 24 Beijing Engineer\n",
      "Jack 18 () dd Student\n",
      "a = 1 b = 2 c = 0 args = () kw = {}\n",
      "a = 1 b = 2 c = 3 args = () kw = {}\n",
      "a = 1 b = 2 c = 3 args = ('a', 'b') kw = {}\n",
      "a = 1 b = 2 c = 3 args = ('a', 'b') kw = {'x': 99}\n",
      "a = 1 b = 2 c = 0 d = 99 kw = {'ext': None}\n",
      "a = 1 b = 2 c = 3 args = (4,) kw = {'x': '#', 'd': 99}\n",
      "a = 1 b = 2 c = 3 d = 88 kw = {'x': '#'}\n"
     ]
    }
   ],
   "source": [
    "import math\n",
    "def nop():\n",
    "\tpass;#pass 是占位符，表示什么都不做，如下面\n",
    "\n",
    "if 1 > 2:\n",
    "\tpass#表示什么都不做，只是占位符\n",
    "\n",
    "#函数返回值可以有多个\n",
    "def move(x,y,step,angle):\n",
    "\tnx = x + step * math.cos(angle)\n",
    "\tny = y + step * math.sin(angle)\n",
    "\treturn nx,ny\n",
    "\n",
    "print(move(1,2,3,math.pi/6))#(3.598076211353316, 3.5) 可以看出返回值是一个tuple\n",
    "\n",
    "\n",
    "#函数参数\n",
    "#默认参数\n",
    "def power(x, n=2):\n",
    "    s = 1\n",
    "    while n > 0:\n",
    "        n = n - 1\n",
    "        s = s * x\n",
    "    return s\n",
    "\n",
    "def add_end(L=[]):\n",
    "    L.append('END')\n",
    "    return L\n",
    "\n",
    "print(add_end())#['END']\n",
    "print(add_end())#['END', 'END'],Python函数在定义的时候，默认参数L的值就被计算出来了，即[]，\n",
    "#因为默认参数L也是一个变量，它指向对象[]，每次调用该函数，如果改变了L的内容，则下次调用时，\n",
    "#默认参数的内容就变了，不再是函数定义时的[]了。\n",
    "#所以，定义默认参数要牢记一点：默认参数必须指向\n",
    "#可以更改为：\n",
    "def add_end(L=None):\n",
    "    if L is None:\n",
    "        L = []\n",
    "    L.append('END')\n",
    "    return L\n",
    "\n",
    "\n",
    "#可变参数\n",
    "def calc(numbers):\n",
    "    sum = 0\n",
    "    for n in numbers:\n",
    "        sum = sum + n * n\n",
    "    return sum\n",
    "\n",
    "print(calc([1,2,3,4]))\n",
    "\n",
    "def calc(*numbers):\n",
    "    sum = 0\n",
    "    for n in numbers:\n",
    "        sum = sum + n * n\n",
    "    return sum\n",
    "\n",
    "print(calc(1,2,3))\n",
    "print(calc(1,2,3,4))\n",
    "\n",
    "#如果已经有一个list或者tuple，要调用一个可变参数\n",
    "nums = [1, 2, 3]\n",
    "calc(*nums)\n",
    "\n",
    "\n",
    "#关键字参数\n",
    "#关键字参数允许你传入0个或任意个含参数名的参数，这些关键字参数在函数内部自动组装为一个dict\n",
    "def person(name, age, **kw):\n",
    "    print('name:', name, 'age:', age, 'other:', kw)\n",
    "\n",
    "print(person('Michael', 30))\n",
    "person('Bob', 35, city='Beijing')\n",
    "person('Adam', 45, gender='M', job='Engineer')\n",
    "#直接使用dic，注意kw获得的dict是extra的一份拷贝，对kw的改动不会影响到函数外的extra。\n",
    "extra = {'city': 'Beijing', 'job': 'Engineer'}\n",
    "person('Jack', 24, **extra)\n",
    "\n",
    "def person(name, age, **kw):\n",
    "    if 'city' in kw:\n",
    "        # 有city参数\n",
    "        pass\n",
    "    if 'job' in kw:\n",
    "        # 有job参数\n",
    "        pass\n",
    "    print('name:', name, 'age:', age, 'other:', kw)\n",
    "\n",
    "#命名关键字参数\n",
    "def person(name, age, *, city, job):\n",
    "    print(name, age, city, job)\n",
    "person('Jack', 24, city='Beijing', job='Engineer')\n",
    "\n",
    "#如果函数定义中已经有了一个可变参数，后面跟着的命名关键字参数就不再需要一个特殊分隔符*了：\n",
    "def person(name, age, *args, city, job):\n",
    "    print(name, age, args, city, job)\n",
    "person('Jack',18,city = 'dd',job = 'Student')\n",
    "\n",
    "\n",
    "#参数组合\n",
    "#参数定义的顺序必须是：必选参数、默认参数、可变参数、命名关键字参数和关键字参数。\n",
    "def f1(a, b, c=0, *args, **kw):\n",
    "    print('a =', a, 'b =', b, 'c =', c, 'args =', args, 'kw =', kw)\n",
    "\n",
    "def f2(a, b, c=0, *, d, **kw):\n",
    "    print('a =', a, 'b =', b, 'c =', c, 'd =', d, 'kw =', kw)\n",
    "\n",
    "f1(1, 2)#a = 1 b = 2 c = 0 args = () kw = {}\n",
    "f1(1, 2, c=3)#a = 1 b = 2 c = 3 args = () kw = {}\n",
    "f1(1, 2, 3, 'a', 'b')#a = 1 b = 2 c = 3 args = ('a', 'b') kw = {}\n",
    "f1(1, 2, 3, 'a', 'b', x=99)#a = 1 b = 2 c = 3 args = ('a', 'b') kw = {'x': 99}\n",
    "f2(1, 2, d=99, ext=None)#a = 1 b = 2 c = 0 d = 99 kw = {'ext': None}\n",
    "\n",
    "\n",
    "\n",
    "\n",
    "args = (1, 2, 3, 4)\n",
    "kw = {'d': 99, 'x': '#'}\n",
    "f1(*args, **kw)#a = 1 b = 2 c = 3 args = (4,) kw = {'d': 99, 'x': '#'}\n",
    "args = (1, 2, 3)\n",
    "kw = {'d': 88, 'x': '#'}\n",
    "f2(*args, **kw)#a = 1 b = 2 c = 3 d = 88 kw = {'x': '#'}\n",
    "#所以，对于任意函数，都可以通过类似func(*args, **kw)的形式调用它，无论它的参数是如何定义的。"
   ]
  },
  {
   "cell_type": "markdown",
   "metadata": {},
   "source": [
    "# 切片"
   ]
  },
  {
   "cell_type": "code",
   "execution_count": 183,
   "metadata": {},
   "outputs": [
    {
     "data": {
      "text/plain": [
       "'ACEG'"
      ]
     },
     "execution_count": 183,
     "metadata": {},
     "output_type": "execute_result"
    }
   ],
   "source": [
    "L = ['Michael', 'Sarah', 'Tracy', 'Bob', 'Jack']\n",
    "L[0:3]#['Michael', 'Sarah', 'Tracy']\n",
    "L[:3]#如果第一个索引是0，则可以省略\n",
    "L[-2:]#['Bob', 'Jack']\n",
    "L[-2:-1]#['Bob']\n",
    "L=list(range(100))\n",
    "L[:10:2]#前十个数，每两个取一个[0, 2, 4, 6, 8]\n",
    "L[::5]#所有数，每五个取一个\n",
    "#[0, 5, 10, 15, 20, 25, 30, 35, 40, 45, 50, 55, 60, 65, 70, 75, 80, 85, 90, 95]\n",
    "L[:]#复制一个list\n",
    "#元组也可以切片\n",
    "(0, 1, 2, 3, 4, 5)[:3]#(0, 1, 2)\n",
    "#字符串'xxx'也可以看成是一种list，每个元素就是一个字符。\n",
    "#因此，字符串也可以用切片操作，只是操作结果仍是字符串：\n",
    "'ABCDEFG'[:3]#'ABC'\n",
    "'ABCDEFG'[::2]#'ACEG'\n"
   ]
  },
  {
   "cell_type": "markdown",
   "metadata": {},
   "source": [
    "# 迭代"
   ]
  },
  {
   "cell_type": "code",
   "execution_count": 184,
   "metadata": {},
   "outputs": [
    {
     "name": "stdout",
     "output_type": "stream",
     "text": [
      "c\n",
      "b\n",
      "a\n",
      "True\n",
      "0 a\n",
      "1 b\n",
      "2 c\n",
      "1 1\n",
      "2 4\n",
      "3 9\n"
     ]
    }
   ],
   "source": [
    "#因为dict的存储不是按照list的方式顺序排列，所以，迭代出的结果顺序很可能不一样。\n",
    "d = {'a': 1, 'b': 2, 'c': 3}\n",
    "for key in d:\n",
    "    print(key)\n",
    "#默认情况下，dict迭代的是key。\n",
    "#如果要迭代value，可以用for value in d.values()，\n",
    "#如果要同时迭代key和value，可以用for k, v in d.items()\n",
    "#字符串也是可迭代对象 for ch in 'ABC'\n",
    "from collections import Iterable\n",
    "print (isinstance('abc', Iterable)) # str是否可迭代 True\n",
    "isinstance([1,2,3], Iterable) # list是否可迭代 True\n",
    "isinstance(123, Iterable) # 整数是否可迭代 False\n",
    "#如果要对list实现类似Java的下标循环怎么办？\n",
    "#Python内置的enumerate函数可以把一个list变成索引-元素对，这样就可以在for循环中同时迭代索引和元素本身\n",
    "for i,value in enumerate(['a','b','c']):\n",
    "    print(i,value)\n",
    "for x, y in [(1, 1), (2, 4), (3, 9)]:\n",
    "    print(x, y)\n"
   ]
  },
  {
   "cell_type": "code",
   "execution_count": null,
   "metadata": {
    "collapsed": true
   },
   "outputs": [],
   "source": []
  },
  {
   "cell_type": "code",
   "execution_count": 185,
   "metadata": {},
   "outputs": [
    {
     "data": {
      "image/png": "[encoded data removed]",
      "text/plain": [
       "<matplotlib.figure.Figure at 0x10a3b8128>"
      ]
     },
     "metadata": {},
     "output_type": "display_data"
    }
   ],
   "source": [
    "get_ipython().magic('matplotlib inline')\n",
    "import matplotlib.pyplot as plt\n",
    "import numpy as np\n",
    "import pandas as pd\n",
    "import seaborn as sns\n",
    "\n",
    "x = [-2, 2, -2, 2]\n",
    "y = [-4, 4, 0.5, 2.5]\n",
    "\n",
    "fig = plt.figure()\n",
    "plt.axhline(y=0, c='black')\n",
    "plt.axvline(x=0, c='black')\n",
    "\n",
    "plt.plot(x[:2], y[:2], x[2:], y[2:])\n",
    "\n",
    "plt.draw()\n"
   ]
  },
  {
   "cell_type": "markdown",
   "metadata": {
    "collapsed": true
   },
   "source": []
  }
 ],
 "metadata": {
  "kernelspec": {
   "display_name": "Python 3",
   "language": "python",
   "name": "python3"
  },
  "language_info": {
   "codemirror_mode": {
    "name": "ipython",
    "version": 3
   },
   "file_extension": ".py",
   "mimetype": "text/x-python",
   "name": "python",
   "nbconvert_exporter": "python",
   "pygments_lexer": "ipython3",
   "version": "3.5.2"
  }
 },
 "nbformat": 4,
 "nbformat_minor": 2
}
